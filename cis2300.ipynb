{
  "nbformat": 4,
  "nbformat_minor": 0,
  "metadata": {
    "colab": {
      "name": "cis2300.ipynb",
      "provenance": [],
      "authorship_tag": "ABX9TyPjezz5WnCGiCl2xi0z9npo"
    },
    "kernelspec": {
      "name": "python3",
      "display_name": "Python 3"
    },
    "language_info": {
      "name": "python"
    }
  },
  "cells": [
    {
      "cell_type": "code",
      "metadata": {
        "colab": {
          "base_uri": "https://localhost:8080/"
        },
        "id": "IOBlgJ6aTRrY",
        "outputId": "b685cdd9-83b9-4cf5-fabc-de011776a9fb"
      },
      "source": [
        "# finding the volume of a cylinder\n",
        "# using parameter r and h. Volume of a cylinder is: pi * r^2 * h\n",
        "\n",
        "def cylinderVolume (r, h):\n",
        "  volume = 3.14 * r * r * h\n",
        "  return volume\n",
        "\n",
        "# printing the volume of a cylinder\n",
        "\n",
        "print(\"The Volume of a cylinder is: \", cylinderVolume(2,3))\n"
      ],
      "execution_count": 69,
      "outputs": [
        {
          "output_type": "stream",
          "name": "stdout",
          "text": [
            "The Volume of a cylinder is:  37.68\n"
          ]
        }
      ]
    },
    {
      "cell_type": "code",
      "metadata": {
        "colab": {
          "base_uri": "https://localhost:8080/"
        },
        "id": "LpAknA7eazHx",
        "outputId": "d3e89f44-073f-4673-9c30-31c5b5539ec5"
      },
      "source": [
        "import random\n",
        "\n",
        "num = [1,2,3,4,5]\n",
        "letter = [\"A\",\"B\",\"C\"]\n",
        "\n",
        "# a function to randomly select a number from the num list \n",
        "# and one letter from the letter list\n",
        "def numLetter ():\n",
        "  # random index for num list\n",
        "  index1 = random.randint(0,4)\n",
        "  # random index for letter list\n",
        "  index2 = random.randint(0,2)\n",
        "  value = num[index1]\n",
        "  alphabet = letter[index2]\n",
        "  return value, alphabet\n",
        "\n",
        "# printing the result\n",
        "print(numLetter())\n"
      ],
      "execution_count": 70,
      "outputs": [
        {
          "output_type": "stream",
          "name": "stdout",
          "text": [
            "(5, 'C')\n"
          ]
        }
      ]
    },
    {
      "cell_type": "code",
      "metadata": {
        "id": "EHF13FW5dZew"
      },
      "source": [
        ""
      ],
      "execution_count": 70,
      "outputs": []
    },
    {
      "cell_type": "code",
      "metadata": {
        "id": "pCA-Fsmjdrbw"
      },
      "source": [
        ""
      ],
      "execution_count": 70,
      "outputs": []
    }
  ]
}